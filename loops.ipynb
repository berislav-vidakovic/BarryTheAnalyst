{
 "cells": [
  {
   "cell_type": "code",
   "execution_count": 5,
   "id": "4e0342df",
   "metadata": {},
   "outputs": [
    {
     "name": "stdout",
     "output_type": "stream",
     "text": [
      "Function with no args\n"
     ]
    }
   ],
   "source": [
    "def func_noargs():\n",
    "    print('Function with no args')\n",
    "\n",
    "func_noargs()"
   ]
  },
  {
   "cell_type": "code",
   "execution_count": 6,
   "id": "6e29df35",
   "metadata": {},
   "outputs": [
    {
     "name": "stdout",
     "output_type": "stream",
     "text": [
      "9\n"
     ]
    }
   ],
   "source": [
    "def func_onearg(number):\n",
    "    print(number**2)\n",
    "\n",
    "func_onearg(3)"
   ]
  },
  {
   "cell_type": "code",
   "execution_count": 7,
   "id": "182240f4",
   "metadata": {},
   "outputs": [
    {
     "name": "stdout",
     "output_type": "stream",
     "text": [
      "32\n"
     ]
    }
   ],
   "source": [
    "def func_twoargs(number,power):\n",
    "    print(number ** power)\n",
    "\n",
    "func_twoargs(2,5)"
   ]
  },
  {
   "cell_type": "code",
   "execution_count": 9,
   "id": "fa851989",
   "metadata": {},
   "outputs": [
    {
     "name": "stdout",
     "output_type": "stream",
     "text": [
      "25\n"
     ]
    }
   ],
   "source": [
    "def func_keywarg(number,power):\n",
    "    print(number ** power)\n",
    "\n",
    "func_keywarg (power=2,number=5)"
   ]
  },
  {
   "cell_type": "code",
   "execution_count": 14,
   "id": "f96b754c",
   "metadata": {},
   "outputs": [
    {
     "name": "stdout",
     "output_type": "stream",
     "text": [
      "7\n",
      "9\n"
     ]
    }
   ],
   "source": [
    "#arbitrary arguments\n",
    "def func_arbargs(*args):\n",
    "    print(args[0] + args[1])\n",
    "\n",
    "args_tuple=(3,4,5,6)\n",
    "func_arbargs(*args_tuple)\n",
    "func_arbargs(4,5,6,7)"
   ]
  },
  {
   "cell_type": "code",
   "execution_count": 19,
   "id": "00edfc11",
   "metadata": {},
   "outputs": [
    {
     "name": "stdout",
     "output_type": "stream",
     "text": [
      "1st=101, 2nd=202\n"
     ]
    }
   ],
   "source": [
    "#arbitrary keyword arguments\n",
    "def func_arbkeyargs(**args):\n",
    "    print('1st=' + args['first'] + ', 2nd=' + args['second'])\n",
    "\n",
    "func_arbkeyargs(first='101', second='202')"
   ]
  },
  {
   "cell_type": "code",
   "execution_count": 39,
   "id": "a78bb490",
   "metadata": {},
   "outputs": [
    {
     "name": "stdout",
     "output_type": "stream",
     "text": [
      "Entered number is positive\n",
      "Entered number is negative\n",
      "Entered value is zero\n",
      "Please pass an integer value /passed: <class 'str'>\n"
     ]
    }
   ],
   "source": [
    "def check_val(n):    \n",
    "    if type(n) is not int:\n",
    "        print('Please pass an integer value /passed:',type(n))\n",
    "    else:\n",
    "        if n>0:\n",
    "            print('Entered number is positive')\n",
    "        elif n<0:\n",
    "            print('Entered number is negative')\n",
    "        else:\n",
    "            print('Entered value is zero')\n",
    "\n",
    "check_val(5)\n",
    "check_val(-10)\n",
    "check_val(0)\n",
    "check_val('string_val')"
   ]
  },
  {
   "cell_type": "code",
   "execution_count": 41,
   "id": "88ad89d4",
   "metadata": {},
   "outputs": [
    {
     "name": "stdout",
     "output_type": "stream",
     "text": [
      "1\n",
      "2\n",
      "3\n"
     ]
    }
   ],
   "source": [
    "integers=[1,2,3]\n",
    "for number in integers:\n",
    "    print(number)"
   ]
  },
  {
   "cell_type": "code",
   "execution_count": 44,
   "id": "1e902743",
   "metadata": {},
   "outputs": [
    {
     "name": "stdout",
     "output_type": "stream",
     "text": [
      "Barry\n",
      "5\n",
      "['Chocolate', 'Vanilla']\n",
      "name -> Barry\n",
      "weekly -> 5\n",
      "favourite -> ['Chocolate', 'Vanilla']\n"
     ]
    }
   ],
   "source": [
    "ice_cream_dict={'name':'Barry','weekly':5,'favourite':['Chocolate','Vanilla']}\n",
    "\n",
    "for cream in ice_cream_dict.values():\n",
    "    print(cream)\n",
    "\n",
    "for key, value in ice_cream_dict.items():\n",
    "    print(key, '->', value)"
   ]
  },
  {
   "cell_type": "code",
   "execution_count": 51,
   "id": "c12c56ae",
   "metadata": {},
   "outputs": [
    {
     "name": "stdout",
     "output_type": "stream",
     "text": [
      "0\n",
      "1\n",
      "2\n",
      "No longer <3\n"
     ]
    }
   ],
   "source": [
    "number = 0\n",
    "while number <3:\n",
    "    print(number)\n",
    "    number = number + 1\n",
    "else:\n",
    "    print('No longer <3')"
   ]
  },
  {
   "cell_type": "code",
   "execution_count": 52,
   "id": "4bcce137",
   "metadata": {},
   "outputs": [
    {
     "name": "stdout",
     "output_type": "stream",
     "text": [
      "0\n",
      "1\n",
      "2\n"
     ]
    }
   ],
   "source": [
    "number = 0\n",
    "while number <3:\n",
    "    print(number)\n",
    "    if number ==2:\n",
    "        break\n",
    "    number = number + 1"
   ]
  },
  {
   "cell_type": "code",
   "execution_count": 67,
   "id": "68349cb3",
   "metadata": {},
   "outputs": [
    {
     "name": "stdout",
     "output_type": "stream",
     "text": [
      "0\n",
      "1\n"
     ]
    }
   ],
   "source": [
    "number=0\n",
    "while number <3:    \n",
    "    if number == 2:\n",
    "        break\n",
    "    print(number)\n",
    "    number = number + 1\n",
    "else:\n",
    "    print('No longer <3')"
   ]
  },
  {
   "cell_type": "code",
   "execution_count": 68,
   "id": "dbda0fa9",
   "metadata": {},
   "outputs": [
    {
     "name": "stdout",
     "output_type": "stream",
     "text": [
      "1\n",
      "3\n",
      "No longer <3\n"
     ]
    }
   ],
   "source": [
    "number=0\n",
    "while number <3:    \n",
    "    number = number + 1\n",
    "    if number == 2:\n",
    "        continue\n",
    "    print(number)    \n",
    "else:\n",
    "    print('No longer <3')"
   ]
  },
  {
   "cell_type": "code",
   "execution_count": null,
   "id": "6d7680c2",
   "metadata": {},
   "outputs": [],
   "source": []
  },
  {
   "cell_type": "code",
   "execution_count": null,
   "id": "fe507aac",
   "metadata": {},
   "outputs": [],
   "source": []
  }
 ],
 "metadata": {
  "kernelspec": {
   "display_name": "Python 3 (ipykernel)",
   "language": "python",
   "name": "python3"
  },
  "language_info": {
   "codemirror_mode": {
    "name": "ipython",
    "version": 3
   },
   "file_extension": ".py",
   "mimetype": "text/x-python",
   "name": "python",
   "nbconvert_exporter": "python",
   "pygments_lexer": "ipython3",
   "version": "3.11.4"
  }
 },
 "nbformat": 4,
 "nbformat_minor": 5
}
