{
 "cells": [
  {
   "cell_type": "code",
   "execution_count": 14,
   "id": "1cf1e2eb",
   "metadata": {},
   "outputs": [],
   "source": [
    "words=['hello','I am Barry','welcome','to','my','blog']"
   ]
  },
  {
   "cell_type": "code",
   "execution_count": 8,
   "id": "ac0ac278",
   "metadata": {},
   "outputs": [
    {
     "name": "stdout",
     "output_type": "stream",
     "text": [
      "[5, 10, 7, 2, 2, 4]\n"
     ]
    }
   ],
   "source": [
    "#Solution 1 - using for loop\n",
    "lengths =[]\n",
    "for word in words:\n",
    "    lengths.append(len(word))\n",
    "print(lengths)"
   ]
  },
  {
   "cell_type": "code",
   "execution_count": 7,
   "id": "63a6e9ce",
   "metadata": {},
   "outputs": [
    {
     "name": "stdout",
     "output_type": "stream",
     "text": [
      "[5, 10, 7, 2, 2, 4]\n"
     ]
    }
   ],
   "source": [
    "#Solution 2 - list comprehension\n",
    "lengths = [len(word) for word in words]\n",
    "print(lengths)"
   ]
  },
  {
   "cell_type": "code",
   "execution_count": 15,
   "id": "93dde27b",
   "metadata": {},
   "outputs": [
    {
     "name": "stdout",
     "output_type": "stream",
     "text": [
      "[5, 10, 7, 2, 2, 4]\n"
     ]
    }
   ],
   "source": [
    "#Solution 3 - using map function\n",
    "lengths = list(map(len,words))\n",
    "print(lengths)"
   ]
  },
  {
   "cell_type": "code",
   "execution_count": 27,
   "id": "3a86f284",
   "metadata": {},
   "outputs": [],
   "source": [
    "numbers=[1,2,3,4]"
   ]
  },
  {
   "cell_type": "code",
   "execution_count": 28,
   "id": "f0aad319",
   "metadata": {},
   "outputs": [
    {
     "name": "stdout",
     "output_type": "stream",
     "text": [
      "[1, 8, 27, 64]\n"
     ]
    }
   ],
   "source": [
    "#Solution 1 - standard function passed\n",
    "def cube(number):\n",
    "    return number**3\n",
    "\n",
    "cubes=list(map(cube,numbers))\n",
    "print(cubes)"
   ]
  },
  {
   "cell_type": "code",
   "execution_count": 29,
   "id": "21d43359",
   "metadata": {},
   "outputs": [
    {
     "name": "stdout",
     "output_type": "stream",
     "text": [
      "[1, 8, 27, 64]\n"
     ]
    }
   ],
   "source": [
    "#Solution 2 - lambda function passed\n",
    "cubes=list(map(lambda x: x**3,numbers))\n",
    "print(cubes)"
   ]
  },
  {
   "cell_type": "code",
   "execution_count": 34,
   "id": "46f7f494",
   "metadata": {},
   "outputs": [
    {
     "name": "stdout",
     "output_type": "stream",
     "text": [
      "[5, 12, 21]\n"
     ]
    }
   ],
   "source": [
    "#create new list containing product of two list elements\n",
    "items1=[1,2,3]\n",
    "items2=[5,6,7]\n",
    "\n",
    "products=list(map(lambda x,y: x*y, items1, items2))\n",
    "print(products)"
   ]
  },
  {
   "cell_type": "code",
   "execution_count": 33,
   "id": "54d09f0f",
   "metadata": {},
   "outputs": [
    {
     "name": "stdout",
     "output_type": "stream",
     "text": [
      "[6, 12, 15]\n"
     ]
    }
   ],
   "source": [
    "#creating a list containing product of dictionary values\n",
    "rects=[\n",
    "    {'length':2, 'width':3},\n",
    "    {'length':3, 'width':4},\n",
    "    {'length':5, 'width':3}    \n",
    "]\n",
    "\n",
    "areas = list(map(\n",
    "    lambda x: x.get('length',0)*x.get('width',0), rects))\n",
    "print(areas)"
   ]
  },
  {
   "cell_type": "code",
   "execution_count": 35,
   "id": "a9bf3403",
   "metadata": {},
   "outputs": [
    {
     "name": "stdout",
     "output_type": "stream",
     "text": [
      "((1, 1), (2, 4), (3, 9), (4, 16), (5, 25))\n"
     ]
    }
   ],
   "source": [
    "#creating tuple of tuples containing numbers and squares\n",
    "values=(1,2,3,4,5)\n",
    "squares=tuple(map(lambda x:(x, x**2), values))\n",
    "print(squares)"
   ]
  },
  {
   "cell_type": "code",
   "execution_count": null,
   "id": "dbf4fa73",
   "metadata": {},
   "outputs": [],
   "source": []
  }
 ],
 "metadata": {
  "kernelspec": {
   "display_name": "Python 3 (ipykernel)",
   "language": "python",
   "name": "python3"
  },
  "language_info": {
   "codemirror_mode": {
    "name": "ipython",
    "version": 3
   },
   "file_extension": ".py",
   "mimetype": "text/x-python",
   "name": "python",
   "nbconvert_exporter": "python",
   "pygments_lexer": "ipython3",
   "version": "3.11.4"
  }
 },
 "nbformat": 4,
 "nbformat_minor": 5
}
