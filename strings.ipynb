{
 "cells": [
  {
   "cell_type": "code",
   "execution_count": 1,
   "id": "674bc9ba",
   "metadata": {},
   "outputs": [],
   "source": [
    "import pandas as pd"
   ]
  },
  {
   "cell_type": "code",
   "execution_count": 17,
   "id": "e0dcd5d9",
   "metadata": {},
   "outputs": [
    {
     "data": {
      "text/html": [
       "<div>\n",
       "<style scoped>\n",
       "    .dataframe tbody tr th:only-of-type {\n",
       "        vertical-align: middle;\n",
       "    }\n",
       "\n",
       "    .dataframe tbody tr th {\n",
       "        vertical-align: top;\n",
       "    }\n",
       "\n",
       "    .dataframe thead th {\n",
       "        text-align: right;\n",
       "    }\n",
       "</style>\n",
       "<table border=\"1\" class=\"dataframe\">\n",
       "  <thead>\n",
       "    <tr style=\"text-align: right;\">\n",
       "      <th></th>\n",
       "      <th>Name</th>\n",
       "      <th>City</th>\n",
       "      <th>State</th>\n",
       "    </tr>\n",
       "  </thead>\n",
       "  <tbody>\n",
       "    <tr>\n",
       "      <th>0</th>\n",
       "      <td>John Fogerty</td>\n",
       "      <td>New York</td>\n",
       "      <td>NY</td>\n",
       "    </tr>\n",
       "    <tr>\n",
       "      <th>1</th>\n",
       "      <td>Elvis Presley</td>\n",
       "      <td>Los Angeles</td>\n",
       "      <td>CA</td>\n",
       "    </tr>\n",
       "    <tr>\n",
       "      <th>2</th>\n",
       "      <td>Bob Dylan</td>\n",
       "      <td>Chicago</td>\n",
       "      <td>IL</td>\n",
       "    </tr>\n",
       "    <tr>\n",
       "      <th>3</th>\n",
       "      <td>Johnny Cash</td>\n",
       "      <td>Houston</td>\n",
       "      <td>TX</td>\n",
       "    </tr>\n",
       "  </tbody>\n",
       "</table>\n",
       "</div>"
      ],
      "text/plain": [
       "            Name         City State\n",
       "0   John Fogerty     New York    NY\n",
       "1  Elvis Presley  Los Angeles    CA\n",
       "2      Bob Dylan    Chicago      IL\n",
       "3    Johnny Cash      Houston    TX"
      ]
     },
     "execution_count": 17,
     "metadata": {},
     "output_type": "execute_result"
    }
   ],
   "source": [
    "dict1={'Name': ['John Fogerty', 'Elvis Presley', 'Bob Dylan', \\\n",
    "                'Johnny Cash'],\n",
    "        'City': ['New York', 'Los Angeles',' Chicago  ','Houston'],\n",
    "        'State': ['NY','CA','IL','TX'],\n",
    "        }\n",
    "df=pd.DataFrame(dict1)\n",
    "df"
   ]
  },
  {
   "cell_type": "code",
   "execution_count": 10,
   "id": "10cd718b",
   "metadata": {},
   "outputs": [
    {
     "data": {
      "text/plain": [
       "0     john fogerty\n",
       "1    elvis presley\n",
       "2        bob dylan\n",
       "3      johnny cash\n",
       "Name: Name, dtype: object"
      ]
     },
     "execution_count": 10,
     "metadata": {},
     "output_type": "execute_result"
    }
   ],
   "source": [
    "name_lower=df['Name'].str.lower()\n",
    "name_lower"
   ]
  },
  {
   "cell_type": "code",
   "execution_count": 11,
   "id": "a7661855",
   "metadata": {},
   "outputs": [
    {
     "data": {
      "text/plain": [
       "0     JOHN FOGERTY\n",
       "1    ELVIS PRESLEY\n",
       "2        BOB DYLAN\n",
       "3      JOHNNY CASH\n",
       "Name: Name, dtype: object"
      ]
     },
     "execution_count": 11,
     "metadata": {},
     "output_type": "execute_result"
    }
   ],
   "source": [
    "name_upper=df['Name'].str.upper()\n",
    "name_upper"
   ]
  },
  {
   "cell_type": "code",
   "execution_count": 18,
   "id": "6ab5c97c",
   "metadata": {},
   "outputs": [
    {
     "data": {
      "text/plain": [
       "0     8\n",
       "1    11\n",
       "2    10\n",
       "3     7\n",
       "Name: City, dtype: int64"
      ]
     },
     "execution_count": 18,
     "metadata": {},
     "output_type": "execute_result"
    }
   ],
   "source": [
    "length=df['City'].str.len()\n",
    "length"
   ]
  },
  {
   "cell_type": "code",
   "execution_count": 16,
   "id": "7f7cc0af",
   "metadata": {},
   "outputs": [
    {
     "data": {
      "text/plain": [
       "' Chicago  '"
      ]
     },
     "execution_count": 16,
     "metadata": {},
     "output_type": "execute_result"
    }
   ],
   "source": [
    "df['City'][2]"
   ]
  },
  {
   "cell_type": "code",
   "execution_count": 20,
   "id": "42f9284a",
   "metadata": {},
   "outputs": [
    {
     "data": {
      "text/plain": [
       "'Chicago'"
      ]
     },
     "execution_count": 20,
     "metadata": {},
     "output_type": "execute_result"
    }
   ],
   "source": [
    "#remove spaces from particular row in the series\n",
    "df['City'][2].strip()"
   ]
  },
  {
   "cell_type": "code",
   "execution_count": 21,
   "id": "3c837fc4",
   "metadata": {},
   "outputs": [
    {
     "data": {
      "text/plain": [
       "0       New York\n",
       "1    Los Angeles\n",
       "2        Chicago\n",
       "3        Houston\n",
       "Name: City, dtype: object"
      ]
     },
     "execution_count": 21,
     "metadata": {},
     "output_type": "execute_result"
    }
   ],
   "source": [
    "#remove spaces from each value in Series\n",
    "df['City'].str.strip()"
   ]
  },
  {
   "cell_type": "code",
   "execution_count": 23,
   "id": "6133a5ca",
   "metadata": {},
   "outputs": [],
   "source": [
    "#using split and adding 2 new columns to DataFrame\n",
    "df[['First','Last']]=df['Name'].str.split(' ',expand=True)"
   ]
  },
  {
   "cell_type": "code",
   "execution_count": 24,
   "id": "247fa8f7",
   "metadata": {},
   "outputs": [
    {
     "data": {
      "text/html": [
       "<div>\n",
       "<style scoped>\n",
       "    .dataframe tbody tr th:only-of-type {\n",
       "        vertical-align: middle;\n",
       "    }\n",
       "\n",
       "    .dataframe tbody tr th {\n",
       "        vertical-align: top;\n",
       "    }\n",
       "\n",
       "    .dataframe thead th {\n",
       "        text-align: right;\n",
       "    }\n",
       "</style>\n",
       "<table border=\"1\" class=\"dataframe\">\n",
       "  <thead>\n",
       "    <tr style=\"text-align: right;\">\n",
       "      <th></th>\n",
       "      <th>Name</th>\n",
       "      <th>City</th>\n",
       "      <th>State</th>\n",
       "      <th>First</th>\n",
       "      <th>Last</th>\n",
       "    </tr>\n",
       "  </thead>\n",
       "  <tbody>\n",
       "    <tr>\n",
       "      <th>0</th>\n",
       "      <td>John Fogerty</td>\n",
       "      <td>New York</td>\n",
       "      <td>NY</td>\n",
       "      <td>John</td>\n",
       "      <td>Fogerty</td>\n",
       "    </tr>\n",
       "    <tr>\n",
       "      <th>1</th>\n",
       "      <td>Elvis Presley</td>\n",
       "      <td>Los Angeles</td>\n",
       "      <td>CA</td>\n",
       "      <td>Elvis</td>\n",
       "      <td>Presley</td>\n",
       "    </tr>\n",
       "    <tr>\n",
       "      <th>2</th>\n",
       "      <td>Bob Dylan</td>\n",
       "      <td>Chicago</td>\n",
       "      <td>IL</td>\n",
       "      <td>Bob</td>\n",
       "      <td>Dylan</td>\n",
       "    </tr>\n",
       "    <tr>\n",
       "      <th>3</th>\n",
       "      <td>Johnny Cash</td>\n",
       "      <td>Houston</td>\n",
       "      <td>TX</td>\n",
       "      <td>Johnny</td>\n",
       "      <td>Cash</td>\n",
       "    </tr>\n",
       "  </tbody>\n",
       "</table>\n",
       "</div>"
      ],
      "text/plain": [
       "            Name         City State   First     Last\n",
       "0   John Fogerty     New York    NY    John  Fogerty\n",
       "1  Elvis Presley  Los Angeles    CA   Elvis  Presley\n",
       "2      Bob Dylan    Chicago      IL     Bob    Dylan\n",
       "3    Johnny Cash      Houston    TX  Johnny     Cash"
      ]
     },
     "execution_count": 24,
     "metadata": {},
     "output_type": "execute_result"
    }
   ],
   "source": [
    "df"
   ]
  },
  {
   "cell_type": "code",
   "execution_count": 25,
   "id": "ba7937e4",
   "metadata": {},
   "outputs": [
    {
     "data": {
      "text/plain": [
       "0     True\n",
       "1    False\n",
       "2    False\n",
       "3     True\n",
       "Name: Name, dtype: bool"
      ]
     },
     "execution_count": 25,
     "metadata": {},
     "output_type": "execute_result"
    }
   ],
   "source": [
    "df['Name'].str.contains('John')"
   ]
  },
  {
   "cell_type": "code",
   "execution_count": 26,
   "id": "b04feccd",
   "metadata": {},
   "outputs": [
    {
     "data": {
      "text/html": [
       "<div>\n",
       "<style scoped>\n",
       "    .dataframe tbody tr th:only-of-type {\n",
       "        vertical-align: middle;\n",
       "    }\n",
       "\n",
       "    .dataframe tbody tr th {\n",
       "        vertical-align: top;\n",
       "    }\n",
       "\n",
       "    .dataframe thead th {\n",
       "        text-align: right;\n",
       "    }\n",
       "</style>\n",
       "<table border=\"1\" class=\"dataframe\">\n",
       "  <thead>\n",
       "    <tr style=\"text-align: right;\">\n",
       "      <th></th>\n",
       "      <th>Name</th>\n",
       "      <th>City</th>\n",
       "      <th>State</th>\n",
       "      <th>First</th>\n",
       "      <th>Last</th>\n",
       "    </tr>\n",
       "  </thead>\n",
       "  <tbody>\n",
       "    <tr>\n",
       "      <th>0</th>\n",
       "      <td>John Fogerty</td>\n",
       "      <td>New York</td>\n",
       "      <td>NY</td>\n",
       "      <td>John</td>\n",
       "      <td>Fogerty</td>\n",
       "    </tr>\n",
       "    <tr>\n",
       "      <th>3</th>\n",
       "      <td>Johnny Cash</td>\n",
       "      <td>Houston</td>\n",
       "      <td>TX</td>\n",
       "      <td>Johnny</td>\n",
       "      <td>Cash</td>\n",
       "    </tr>\n",
       "  </tbody>\n",
       "</table>\n",
       "</div>"
      ],
      "text/plain": [
       "           Name      City State   First     Last\n",
       "0  John Fogerty  New York    NY    John  Fogerty\n",
       "3   Johnny Cash   Houston    TX  Johnny     Cash"
      ]
     },
     "execution_count": 26,
     "metadata": {},
     "output_type": "execute_result"
    }
   ],
   "source": [
    "#get  particular row(s) using Boolean indexing\n",
    "df[df['Name'].str.contains('John')]"
   ]
  },
  {
   "cell_type": "code",
   "execution_count": 27,
   "id": "456735d5",
   "metadata": {},
   "outputs": [
    {
     "data": {
      "text/plain": [
       "0    New York\n",
       "1          CA\n",
       "2          IL\n",
       "3          TX\n",
       "Name: State, dtype: object"
      ]
     },
     "execution_count": 27,
     "metadata": {},
     "output_type": "execute_result"
    }
   ],
   "source": [
    "df['State'].str.replace('NY','New York')"
   ]
  },
  {
   "cell_type": "code",
   "execution_count": 28,
   "id": "4d712bd0",
   "metadata": {},
   "outputs": [
    {
     "data": {
      "text/plain": [
       "0            NY\n",
       "1    California\n",
       "2            IL\n",
       "3         Texas\n",
       "Name: State, dtype: object"
      ]
     },
     "execution_count": 28,
     "metadata": {},
     "output_type": "execute_result"
    }
   ],
   "source": [
    "df['State'].str.replace('CA','California').str.replace('TX','Texas')"
   ]
  },
  {
   "cell_type": "code",
   "execution_count": 29,
   "id": "2f6c0969",
   "metadata": {},
   "outputs": [
    {
     "data": {
      "text/plain": [
       "0     True\n",
       "1    False\n",
       "2    False\n",
       "3     True\n",
       "Name: Name, dtype: bool"
      ]
     },
     "execution_count": 29,
     "metadata": {},
     "output_type": "execute_result"
    }
   ],
   "source": [
    "df['Name'].str.startswith('Joh')"
   ]
  },
  {
   "cell_type": "code",
   "execution_count": 30,
   "id": "bbd32f66",
   "metadata": {},
   "outputs": [
    {
     "data": {
      "text/html": [
       "<div>\n",
       "<style scoped>\n",
       "    .dataframe tbody tr th:only-of-type {\n",
       "        vertical-align: middle;\n",
       "    }\n",
       "\n",
       "    .dataframe tbody tr th {\n",
       "        vertical-align: top;\n",
       "    }\n",
       "\n",
       "    .dataframe thead th {\n",
       "        text-align: right;\n",
       "    }\n",
       "</style>\n",
       "<table border=\"1\" class=\"dataframe\">\n",
       "  <thead>\n",
       "    <tr style=\"text-align: right;\">\n",
       "      <th></th>\n",
       "      <th>Name</th>\n",
       "      <th>City</th>\n",
       "      <th>State</th>\n",
       "      <th>First</th>\n",
       "      <th>Last</th>\n",
       "    </tr>\n",
       "  </thead>\n",
       "  <tbody>\n",
       "    <tr>\n",
       "      <th>0</th>\n",
       "      <td>John Fogerty</td>\n",
       "      <td>New York</td>\n",
       "      <td>NY</td>\n",
       "      <td>John</td>\n",
       "      <td>Fogerty</td>\n",
       "    </tr>\n",
       "    <tr>\n",
       "      <th>1</th>\n",
       "      <td>Elvis Presley</td>\n",
       "      <td>Los Angeles</td>\n",
       "      <td>CA</td>\n",
       "      <td>Elvis</td>\n",
       "      <td>Presley</td>\n",
       "    </tr>\n",
       "  </tbody>\n",
       "</table>\n",
       "</div>"
      ],
      "text/plain": [
       "            Name         City State  First     Last\n",
       "0   John Fogerty     New York    NY   John  Fogerty\n",
       "1  Elvis Presley  Los Angeles    CA  Elvis  Presley"
      ]
     },
     "execution_count": 30,
     "metadata": {},
     "output_type": "execute_result"
    }
   ],
   "source": [
    "df[df['Name'].str.endswith('y')]"
   ]
  },
  {
   "cell_type": "code",
   "execution_count": 31,
   "id": "cb78ac91",
   "metadata": {},
   "outputs": [
    {
     "data": {
      "text/plain": [
       "0     John-Fogerty\n",
       "1    Elvis-Presley\n",
       "2        Bob-Dylan\n",
       "3      Johnny-Cash\n",
       "Name: First, dtype: object"
      ]
     },
     "execution_count": 31,
     "metadata": {},
     "output_type": "execute_result"
    }
   ],
   "source": [
    "df['First'].str.cat(df['Last'],'-')"
   ]
  },
  {
   "cell_type": "code",
   "execution_count": 32,
   "id": "6153eca3",
   "metadata": {},
   "outputs": [
    {
     "data": {
      "text/plain": [
       "0    J\n",
       "1    E\n",
       "2    B\n",
       "3    J\n",
       "Name: Name, dtype: object"
      ]
     },
     "execution_count": 32,
     "metadata": {},
     "output_type": "execute_result"
    }
   ],
   "source": [
    "df['Name'].str.get(0)"
   ]
  },
  {
   "cell_type": "code",
   "execution_count": 33,
   "id": "d4c83060",
   "metadata": {},
   "outputs": [
    {
     "data": {
      "text/plain": [
       "0    y\n",
       "1    y\n",
       "2    n\n",
       "3    h\n",
       "Name: Name, dtype: object"
      ]
     },
     "execution_count": 33,
     "metadata": {},
     "output_type": "execute_result"
    }
   ],
   "source": [
    "df['Name'].str.get(-1) #last character"
   ]
  },
  {
   "cell_type": "code",
   "execution_count": 35,
   "id": "f1fbd4ad",
   "metadata": {},
   "outputs": [
    {
     "data": {
      "text/plain": [
       "0      John\n",
       "1     Elvis\n",
       "2       Bob\n",
       "3    Johnny\n",
       "Name: Name, dtype: object"
      ]
     },
     "execution_count": 35,
     "metadata": {},
     "output_type": "execute_result"
    }
   ],
   "source": [
    "#extract first string from the list\n",
    "df['Name'].str.split().str.get(0)"
   ]
  },
  {
   "cell_type": "code",
   "execution_count": 36,
   "id": "1961ed96",
   "metadata": {},
   "outputs": [
    {
     "data": {
      "text/plain": [
       "0    Joh\n",
       "1    Elv\n",
       "2    Bob\n",
       "3    Joh\n",
       "Name: Name, dtype: object"
      ]
     },
     "execution_count": 36,
     "metadata": {},
     "output_type": "execute_result"
    }
   ],
   "source": [
    "#Extract the first 3 characters\n",
    "df['Name'].str.slice(0,3)"
   ]
  },
  {
   "cell_type": "code",
   "execution_count": 37,
   "id": "69974fff",
   "metadata": {},
   "outputs": [
    {
     "data": {
      "text/plain": [
       "0    rty\n",
       "1    ley\n",
       "2    lan\n",
       "3    ash\n",
       "Name: Name, dtype: object"
      ]
     },
     "execution_count": 37,
     "metadata": {},
     "output_type": "execute_result"
    }
   ],
   "source": [
    "#Extract the last 3 characters\n",
    "df['Name'].str.slice(-3)"
   ]
  },
  {
   "cell_type": "code",
   "execution_count": 38,
   "id": "9793917d",
   "metadata": {},
   "outputs": [
    {
     "data": {
      "text/plain": [
       "0    Joh: NY\n",
       "1    Elv: CA\n",
       "2    Bob: IL\n",
       "3    Joh: TX\n",
       "dtype: object"
      ]
     },
     "execution_count": 38,
     "metadata": {},
     "output_type": "execute_result"
    }
   ],
   "source": [
    "#Concatenation\n",
    "df['Name'].str.slice(0,3) + ': ' + df['State']"
   ]
  },
  {
   "cell_type": "code",
   "execution_count": 43,
   "id": "9d81b98d",
   "metadata": {},
   "outputs": [
    {
     "data": {
      "text/plain": [
       "0     John Fogerty\n",
       "1    Elvis Presley\n",
       "2        Bob Dylan\n",
       "3      Johnny Cash\n",
       "Name: Name, dtype: object"
      ]
     },
     "execution_count": 43,
     "metadata": {},
     "output_type": "execute_result"
    }
   ],
   "source": [
    "df['Name']"
   ]
  },
  {
   "cell_type": "code",
   "execution_count": 42,
   "id": "3d3ca441",
   "metadata": {},
   "outputs": [
    {
     "data": {
      "text/plain": [
       "0    2\n",
       "1   -1\n",
       "2   -1\n",
       "3    2\n",
       "Name: Name, dtype: int64"
      ]
     },
     "execution_count": 42,
     "metadata": {},
     "output_type": "execute_result"
    }
   ],
   "source": [
    "df['Name'].str.find('h')"
   ]
  },
  {
   "cell_type": "code",
   "execution_count": 40,
   "id": "db23ecea",
   "metadata": {},
   "outputs": [
    {
     "data": {
      "text/plain": [
       "0     2\n",
       "1    -1\n",
       "2    -1\n",
       "3    10\n",
       "Name: Name, dtype: int64"
      ]
     },
     "execution_count": 40,
     "metadata": {},
     "output_type": "execute_result"
    }
   ],
   "source": [
    "df['Name'].str.rfind('h')"
   ]
  },
  {
   "cell_type": "code",
   "execution_count": null,
   "id": "76e81170",
   "metadata": {},
   "outputs": [],
   "source": []
  }
 ],
 "metadata": {
  "kernelspec": {
   "display_name": "Python 3 (ipykernel)",
   "language": "python",
   "name": "python3"
  },
  "language_info": {
   "codemirror_mode": {
    "name": "ipython",
    "version": 3
   },
   "file_extension": ".py",
   "mimetype": "text/x-python",
   "name": "python",
   "nbconvert_exporter": "python",
   "pygments_lexer": "ipython3",
   "version": "3.11.4"
  }
 },
 "nbformat": 4,
 "nbformat_minor": 5
}
